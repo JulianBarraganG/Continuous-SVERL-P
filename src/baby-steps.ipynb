{
 "cells": [
  {
   "cell_type": "markdown",
   "metadata": {},
   "source": [
    "### XRL Baby Steps Notebook\n",
    "\n",
    "In this notebook, we implement the baby steps attempt to combine three XRL methods,\n",
    "in order to explain deep RL.\n",
    "\n",
    "- SVERL\n",
    "- Group-SHAPLEY\n",
    "- Shapley Explainability on Data Manifold"
   ]
  },
  {
   "cell_type": "code",
   "execution_count": null,
   "metadata": {},
   "outputs": [],
   "source": [
    "import gymnasium as gym\n",
    "from stable_baselines3 import PPO\n",
    "from stable_baselines3.common.env_util import make_vec_env"
   ]
  },
  {
   "cell_type": "code",
   "execution_count": null,
   "metadata": {},
   "outputs": [],
   "source": [
    "# Parallel environments\n",
    "vec_env = make_vec_env(\"CartPole-v1\", n_envs=8)\n",
    "\n",
    "\n",
    "\"\"\"\n",
    "# Set hyperparameters\n",
    "CartPole-v1:\n",
    "  n_envs: 8\n",
    "  n_timesteps: !!float 1e5\n",
    "  policy: 'MlpPolicy'\n",
    "  n_steps: 32\n",
    "  batch_size: 256\n",
    "  gae_lambda: 0.8\n",
    "  gamma: 0.98\n",
    "  n_epochs: 20\n",
    "  ent_coef: 0.0\n",
    "  learning_rate: lin_0.001\n",
    "  clip_range: lin_0.2\n",
    "\"\"\"\n",
    "\n",
    "# Create the agent\n",
    "model = PPO(\"MlpPolicy\", vec_env, verbose=1)\n",
    "model.gamma = 0.98\n",
    "model.gae_lambda = 0.8\n",
    "model.learning_rate = 0.001\n",
    "model.learn(total_timesteps=float(1e5))\n"
   ]
  },
  {
   "cell_type": "code",
   "execution_count": null,
   "metadata": {},
   "outputs": [],
   "source": [
    "model.save(\"ppo_cartpole\")"
   ]
  },
  {
   "cell_type": "code",
   "execution_count": null,
   "metadata": {},
   "outputs": [],
   "source": [
    "model = PPO.load(\"ppo_cartpole\")\n",
    "obs = vec_env.reset()\n",
    "\n",
    "T = 100 # number of timesteps\n",
    "for _ in range(T):\n",
    "    action, _states = model.predict(obs)\n",
    "    obs, rewards, dones, info = vec_env.step(action)\n",
    "    vec_env.render(\"human\")\n",
    "vec_env.close()"
   ]
  }
 ],
 "metadata": {
  "kernelspec": {
   "display_name": "orel",
   "language": "python",
   "name": "python3"
  },
  "language_info": {
   "codemirror_mode": {
    "name": "ipython",
    "version": 3
   },
   "file_extension": ".py",
   "mimetype": "text/x-python",
   "name": "python",
   "nbconvert_exporter": "python",
   "pygments_lexer": "ipython3",
   "version": "3.12.1"
  }
 },
 "nbformat": 4,
 "nbformat_minor": 2
}
