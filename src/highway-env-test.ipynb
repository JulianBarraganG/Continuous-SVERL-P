{
 "cells": [
  {
   "cell_type": "markdown",
   "metadata": {},
   "source": [
    "# Highway Env testing\n",
    "\n",
    "We want to utilize the Highway Environment to examine XRL methods.\n",
    "\n",
    "We use Highway-Env for its relative simplicity, for controlling correct implementation of XRL methods and algorithms, before testing on larger open source models."
   ]
  },
  {
   "cell_type": "code",
   "execution_count": null,
   "metadata": {},
   "outputs": [],
   "source": [
    "import gymnasium\n",
    "import highway_env\n",
    "import matplotlib.pyplot as plt\n",
    "%matplotlib inline\n",
    "\n",
    "## TODO\n",
    "# The environment dependencies can be installed via the .yml file provided in the repository\n",
    "# !pip install -r requirements.txt"
   ]
  },
  {
   "cell_type": "code",
   "execution_count": null,
   "metadata": {},
   "outputs": [],
   "source": [
    "# Create the environment\n",
    "env = gymnasium.make(\"highway-v0\", render_mode=\"rgb_array\")\n",
    "env.reset()\n",
    "\n",
    "T = 50\n",
    "\n",
    "for _ in range(T):\n",
    "    action = env.unwrapped.action_type.actions_indexes[\"IDLE\"]\n",
    "    obs, reward, done, truncated, info = env.step(action)\n",
    "    env.render()\n",
    "env.close()\n",
    "\n",
    "plt.imshow(obs)\n",
    "plt.show()"
   ]
  }
 ],
 "metadata": {
  "kernelspec": {
   "display_name": "bl",
   "language": "python",
   "name": "python3"
  },
  "language_info": {
   "codemirror_mode": {
    "name": "ipython",
    "version": 3
   },
   "file_extension": ".py",
   "mimetype": "text/x-python",
   "name": "python",
   "nbconvert_exporter": "python",
   "pygments_lexer": "ipython3",
   "version": "3.11.5"
  }
 },
 "nbformat": 4,
 "nbformat_minor": 2
}
